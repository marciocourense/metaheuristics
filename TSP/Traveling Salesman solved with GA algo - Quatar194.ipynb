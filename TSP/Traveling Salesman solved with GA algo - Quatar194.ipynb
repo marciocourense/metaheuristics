{
 "cells": [
  {
   "cell_type": "code",
   "execution_count": 1,
   "metadata": {},
   "outputs": [],
   "source": [
    "import random\n",
    "import string\n",
    "import numpy as np\n",
    "from deap import base, creator, tools"
   ]
  },
  {
   "cell_type": "code",
   "execution_count": 2,
   "metadata": {},
   "outputs": [],
   "source": [
    "###########################\n",
    "### loading the dataset ###\n",
    "###########################\n",
    "\n",
    "\n",
    "#load file\n",
    "#And\n",
    "#converting the coordinates into distances between cities\n",
    "import random\n",
    "import math\n",
    "import tsplib95\n",
    "\n",
    "def euclidean_2d_jitter(a, b):\n",
    "    x1, y1 = a\n",
    "    x2, y2 = b\n",
    "    dist = math.sqrt((x2 - x1) ** 2 + (y2 - y1) ** 2)   \n",
    "    return dist * random.random() * 2\n",
    "\n",
    "problem = tsplib95.load_problem('qa194.tsp', special=euclidean_2d_jitter)\n",
    "problem.special = euclidean_2d_jitter"
   ]
  },
  {
   "cell_type": "code",
   "execution_count": 3,
   "metadata": {},
   "outputs": [],
   "source": [
    "#Conveting TSP file to numpy arrays\n",
    "\n",
    "#Comparing with original dataset from the link\n",
    "random.seed(11);\n",
    "np.random.seed(121);\n",
    "\n",
    "#Quatar\n",
    "INDIVIDUAL_SIZE = NUMBER_OF_CITIES = 194 + 1 \n",
    "POPULATION_SIZE = 200\n",
    "N_ITERATIONS = 300\n",
    "N_MATINGS = 50\n",
    "\n",
    "cities = list(problem.get_nodes())\n",
    "\n",
    "#intialize emtpy arry with distances\n",
    "distances = np.zeros((NUMBER_OF_CITIES, NUMBER_OF_CITIES))\n",
    "distances[0][0] = 0 \n",
    "\n",
    "for city in cities:\n",
    "    #print(city)\n",
    "    for to_city in [ i for i in cities if not i == city ]:\n",
    "        #print(city)\n",
    "        #print(to_city)\n",
    "        distances[to_city][city] = \\\n",
    "            distances[city][to_city] = problem.wfunc(city,to_city)"
   ]
  },
  {
   "cell_type": "code",
   "execution_count": 4,
   "metadata": {},
   "outputs": [
    {
     "name": "stdout",
     "output_type": "stream",
     "text": [
      "372.0\n",
      "372\n",
      "0.0\n",
      "0\n"
     ]
    }
   ],
   "source": [
    "#Sanity check\n",
    "print(distances[1][2])\n",
    "print(problem.wfunc(1,2))\n",
    "#list(problem.get_nodes())\n",
    "print(distances[1][1])\n",
    "print(problem.wfunc(1,1))"
   ]
  },
  {
   "cell_type": "code",
   "execution_count": 5,
   "metadata": {},
   "outputs": [],
   "source": [
    "creator.create(\"FitnessMin\", base.Fitness, weights=(-1.0,))\n",
    "creator.create(\"Individual\", list, fitness=creator.FitnessMin)"
   ]
  },
  {
   "cell_type": "code",
   "execution_count": 6,
   "metadata": {},
   "outputs": [],
   "source": [
    "toolbox = base.Toolbox()\n",
    "\n",
    "## permutation setup for individual,\n",
    "toolbox.register(\"indices\", random.sample, range(INDIVIDUAL_SIZE), INDIVIDUAL_SIZE)\n",
    "toolbox.register(\"individual\", tools.initIterate, creator.Individual, toolbox.indices)\n",
    "\n",
    "\n",
    "#The important details here are that we want to minimize the fitness (shortest path). \n",
    "#The individuals need to be setup to not repeat or skip a city. Since each city must be represented, \n",
    "#we use toolbox.indices. \n",
    "#This allows our individuals to be setup with a random.sample from the values in range(INDIVIDUAL_SIZE). \n",
    "\n",
    "\n",
    "\n",
    "## population setup,\n",
    "toolbox.register(\"population\", tools.initRepeat, list, toolbox.individual)\n",
    "\n",
    "toolbox.register(\"mate\", tools.cxOrdered)\n",
    "toolbox.register(\"mutate\", tools.mutShuffleIndexes, indpb=0.01)\n",
    "toolbox.register(\"select\", tools.selTournament, tournsize=10)"
   ]
  },
  {
   "cell_type": "code",
   "execution_count": 7,
   "metadata": {},
   "outputs": [],
   "source": [
    "def EVALUATE(individual):\n",
    "    summation = 0\n",
    "    start = individual[0]\n",
    "    for i in range(1, len(individual)):\n",
    "        end = individual[i]\n",
    "        summation += distances[start][end]\n",
    "        start = end\n",
    "    return summation\n",
    "\n",
    "toolbox.register(\"evaluate\", EVALUATE)"
   ]
  },
  {
   "cell_type": "code",
   "execution_count": 8,
   "metadata": {},
   "outputs": [],
   "source": [
    "#this runner is inpired by https://deap.readthedocs.io \n",
    "\n",
    "class Runner:\n",
    "    \n",
    "    def __init__(self, toolbox):\n",
    "        self.toolbox = toolbox\n",
    "        self.set_parameters(10, 5, 2)\n",
    "        \n",
    "    def set_parameters(self, population_size, iterations, n_matings):\n",
    "        self.iterations = iterations\n",
    "        self.population_size = population_size\n",
    "        self.n_matings = n_matings\n",
    "        \n",
    "    def set_fitness(self, population):\n",
    "        fitnesses = [ \n",
    "            (individual, self.toolbox.evaluate(individual)) \n",
    "            for individual in population \n",
    "        ]\n",
    "\n",
    "        for individual, fitness in fitnesses:\n",
    "            individual.fitness.values = (fitness,)\n",
    "            \n",
    "    def get_offspring(self, population):\n",
    "        n = len(population)\n",
    "        for _ in range(self.n_matings):\n",
    "            i1, i2 = np.random.choice(range(n), size=2, replace=False)\n",
    "\n",
    "            offspring1, offspring2 = \\\n",
    "                self.toolbox.mate(population[i1], population[i2])\n",
    "            \n",
    "            yield self.toolbox.mutate(offspring1)[0]\n",
    "            yield self.toolbox.mutate(offspring2)[0]\n",
    "    \n",
    "    @staticmethod\n",
    "    def pull_stats(population, iteration=1):\n",
    "        fitnesses = [ individual.fitness.values[0] for individual in population ]\n",
    "        return {\n",
    "            'i': iteration,\n",
    "            'mu': np.mean(fitnesses),\n",
    "            'std': np.std(fitnesses),\n",
    "            'max': np.max(fitnesses),\n",
    "            'min': np.min(fitnesses)\n",
    "        }  \n",
    "    \n",
    "    def Run(self):\n",
    "        population = self.toolbox.population(n=self.population_size)\n",
    "        self.set_fitness(population)\n",
    "        \n",
    "        stats = []\n",
    "        for iteration in list(range(1, self.iterations + 1)):\n",
    "            current_population = list(map(self.toolbox.clone, population))\n",
    "            offspring = list(self.get_offspring(current_population))            \n",
    "            for child in offspring:\n",
    "                current_population.append(child)\n",
    "            \n",
    "            ## reset fitness,\n",
    "            self.set_fitness(current_population)\n",
    "            \n",
    "            population[:] = self.toolbox.select(current_population, len(population))\n",
    "            stats.append(\n",
    "                Runner.pull_stats(population, iteration))\n",
    "            \n",
    "        return stats, population"
   ]
  },
  {
   "cell_type": "code",
   "execution_count": 9,
   "metadata": {},
   "outputs": [
    {
     "name": "stdout",
     "output_type": "stream",
     "text": [
      "Wall time: 0 ns\n"
     ]
    }
   ],
   "source": [
    "%time\n",
    "a = Runner(toolbox)\n",
    "a.set_parameters(POPULATION_SIZE, N_ITERATIONS, N_MATINGS)\n",
    "stats, population = a.Run()\n",
    "\n",
    "#Total runtime: "
   ]
  },
  {
   "cell_type": "code",
   "execution_count": 10,
   "metadata": {},
   "outputs": [],
   "source": [
    "stats, population = a.Run()"
   ]
  },
  {
   "cell_type": "code",
   "execution_count": 11,
   "metadata": {},
   "outputs": [
    {
     "data": {
      "image/png": "[encoded data removed]",
      "text/plain": [
       "<Figure size 1080x360 with 2 Axes>"
      ]
     },
     "metadata": {
      "needs_background": "light"
     },
     "output_type": "display_data"
    }
   ],
   "source": [
    "import matplotlib.pyplot as plt\n",
    "\n",
    "plt.figure(figsize=(15,5))\n",
    "\n",
    "plt.subplot(1,2,1)\n",
    "\n",
    "_ = plt.scatter([ s['min'] for s in stats ], [ s['max'] for s in stats ], marker='.', s=[ (s['std'] + 1) / 20 for s in stats ])\n",
    "_ = plt.title('min by max')\n",
    "_ = plt.xlabel('min')\n",
    "_ = plt.ylabel('max')\n",
    "_ = plt.plot(stats[0]['min'], stats[0]['max'], marker='.', color='yellow')\n",
    "_ = plt.plot(stats[-1]['min'], stats[-1]['max'], marker='.', color='red')\n",
    "\n",
    "\n",
    "plt.subplot(1,2,2)\n",
    "\n",
    "_ = plt.scatter([ s['i'] for s in stats ], [ s['mu'] for s in stats ], marker='.', s=[ (s['std'] + 1) / 20 for s in stats ])\n",
    "_ = plt.title('average by iteration')\n",
    "_ = plt.xlabel('iteration')\n",
    "_ = plt.ylabel('average')\n",
    "_ = plt.plot(stats[0]['i'], stats[0]['mu'], marker='.', color='yellow')\n",
    "_ = plt.plot(stats[-1]['i'], stats[-1]['mu'], marker='.', color='red')\n",
    "\n",
    "plt.tight_layout()\n",
    "plt.show()"
   ]
  },
  {
   "cell_type": "code",
   "execution_count": 12,
   "metadata": {},
   "outputs": [
    {
     "data": {
      "text/plain": [
       "[(2, 35081.0), (5, 35081.0), (10, 35081.0), (13, 35081.0), (17, 35081.0)]"
      ]
     },
     "execution_count": 12,
     "metadata": {},
     "output_type": "execute_result"
    }
   ],
   "source": [
    "#start at index 0 and iterate through the individual by collecting the distances between each point. \n",
    "#The sum of those distances becomes our fitness.\n",
    "\n",
    "fitnesses = sorted([ \n",
    "    (i, toolbox.evaluate(individual)) \n",
    "    for i, individual in enumerate(population) \n",
    "], key=lambda x: x[1])\n",
    "\n",
    "fitnesses[:5]"
   ]
  },
  {
   "cell_type": "code",
   "execution_count": 13,
   "metadata": {},
   "outputs": [
    {
     "name": "stdout",
     "output_type": "stream",
     "text": [
      "final restult: [122, 132, 145, 154, 151, 179, 169, 149, 75, 34, 38, 67, 101, 111, 130, 110, 120, 73, 76, 45, 36, 48, 59, 85, 107, 102, 66, 87, 126, 155, 175, 191, 176, 118, 32, 56, 89, 114, 158, 148, 159, 152, 62, 43, 20, 3, 4, 23, 52, 84, 27, 29, 10, 98, 117, 119, 137, 142, 171, 195, 188, 177, 170, 167, 160, 163, 193, 178, 182, 194, 190, 153, 28, 13, 11, 16, 22, 80, 82, 99, 95, 91, 60, 12, 144, 172, 186, 156, 138, 147, 121, 104, 97, 71, 42, 39, 41, 33, 58, 46, 51, 54, 53, 57, 68, 65, 78, 61, 30, 25, 88, 64, 133, 141, 127, 96, 106, 108, 109, 162, 157, 143, 161, 134, 26, 15, 44, 47, 31, 49, 90, 63, 105, 140, 181, 189, 173, 164, 128, 139, 165, 174, 192, 185, 187, 184, 131, 115, 112, 100, 86, 21, 2, 7, 9, 5, 72, 77, 18, 14, 8, 6, 50, 69, 40, 35, 74, 79, 93, 70, 55, 113, 116, 81, 24, 37, 83, 135, 180, 183, 129, 125, 123, 103, 94, 92, 124, 136, 168, 166, 146, 150, 1, 17, 19]\n"
     ]
    }
   ],
   "source": [
    "result = [x+1 for x in population[0]]\n",
    "print(\"final restult: \"+ str(result))"
   ]
  }
 ],
 "metadata": {
  "kernelspec": {
   "display_name": "Python 3",
   "language": "python",
   "name": "python3"
  },
  "language_info": {
   "codemirror_mode": {
    "name": "ipython",
    "version": 3
   },
   "file_extension": ".py",
   "mimetype": "text/x-python",
   "name": "python",
   "nbconvert_exporter": "python",
   "pygments_lexer": "ipython3",
   "version": "3.7.6"
  }
 },
 "nbformat": 4,
 "nbformat_minor": 4
}
