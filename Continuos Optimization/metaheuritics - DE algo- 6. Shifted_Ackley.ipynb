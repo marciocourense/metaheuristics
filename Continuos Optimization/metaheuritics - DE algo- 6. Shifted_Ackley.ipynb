{
 "cells": [
  {
   "cell_type": "code",
   "execution_count": 1,
   "metadata": {},
   "outputs": [],
   "source": [
    "import numpy as np\n",
    "import pandas as pd\n",
    "from scipy.optimize import minimize\n",
    "from math import *\n",
    "import matplotlib.pyplot as plt"
   ]
  },
  {
   "cell_type": "code",
   "execution_count": 2,
   "metadata": {},
   "outputs": [],
   "source": [
    "#https://pablormier.github.io/2017/09/05/a-tutorial-on-differential-evolution-with-python/"
   ]
  },
  {
   "cell_type": "code",
   "execution_count": 3,
   "metadata": {},
   "outputs": [],
   "source": [
    "#Differential Evolution Algorithm\n",
    "\n",
    "def de(fobj, bounds, mut=0.8, crossp=0.7, popsize=20, its=1000):\n",
    "    dimensions = len(bounds)\n",
    "    #pop: intialize random populatation\n",
    "    pop = np.random.rand(popsize, dimensions)\n",
    "    min_b, max_b = np.asarray(bounds).T\n",
    "    diff = np.fabs(min_b - max_b)\n",
    "    pop_denorm = min_b + pop * diff\n",
    "    fitness = np.asarray([fobj(ind) for ind in pop_denorm])\n",
    "    best_idx = np.argmin(fitness)\n",
    "    best = pop_denorm[best_idx]\n",
    "    for i in range(its):\n",
    "        for j in range(popsize):\n",
    "            idxs = [idx for idx in range(popsize) if idx != j]\n",
    "            a, b, c = pop[np.random.choice(idxs, 3, replace = False)]\n",
    "            mutant = np.clip(a + mut * (b - c), 0, 1)\n",
    "            cross_points = np.random.rand(dimensions) < crossp\n",
    "            if not np.any(cross_points):\n",
    "                cross_points[np.random.randint(0, dimensions)] = True\n",
    "            trial = np.where(cross_points, mutant, pop[j])\n",
    "            trial_denorm = min_b + trial * diff\n",
    "            f = fobj(trial_denorm)\n",
    "            if f < fitness[j]:\n",
    "                fitness[j] = f\n",
    "                pop[j] = trial\n",
    "                if f < fitness[best_idx]:\n",
    "                    best_idx = j\n",
    "                    best = trial_denorm\n",
    "        yield best, fitness[best_idx]\n",
    "        \n",
    "#yield is used in order to support last step of iteration\n",
    "#more details at https://stackoverflow.com/questions/231767/what-does-the-yield-keyword-do     "
   ]
  },
  {
   "cell_type": "code",
   "execution_count": 4,
   "metadata": {},
   "outputs": [],
   "source": [
    "f_bias = [-450.0 , -450 , 390 , -330 , -180 , -140]"
   ]
  },
  {
   "cell_type": "code",
   "execution_count": 5,
   "metadata": {},
   "outputs": [],
   "source": [
    "# initial guesses\n",
    "n = 500\n",
    "#x0 = np.zeros(n)\n",
    "x0 = np.zeros(n)\n",
    "dim =np.arange(0,500, 1).tolist()"
   ]
  },
  {
   "cell_type": "code",
   "execution_count": 6,
   "metadata": {},
   "outputs": [],
   "source": [
    "###########################\n",
    "### 2. Shifted_Ackley   ###\n",
    "###########################\n",
    "\n",
    "def Shifted_Ackley(x):\n",
    "    Sum1 = 0\n",
    "    Sum2 = 0\n",
    "    for i in range(len(x)):     \n",
    "        Sum1 = Sum1 + x[i]**2\n",
    "        Sum2 = Sum2 + cos(2*pi*x[i])\n",
    "    F = -20*exp(-0.2*sqrt(Sum1/len(x))) -exp(Sum2/len(x)) + 20 + e + f_bias[5]\n",
    "    return F"
   ]
  },
  {
   "cell_type": "code",
   "execution_count": 7,
   "metadata": {},
   "outputs": [
    {
     "name": "stdout",
     "output_type": "stream",
     "text": [
      "final result: -120.00000018890596\n"
     ]
    },
    {
     "data": {
      "image/png": "[encoded data removed]",
      "text/plain": [
       "<Figure size 432x288 with 1 Axes>"
      ]
     },
     "metadata": {
      "needs_background": "light"
     },
     "output_type": "display_data"
    }
   ],
   "source": [
    "#Running the optmization for D=50\n",
    "Dim = 50\n",
    "result_D50 = list(de(Shifted_Ackley, bounds=[(-100, 100)] * Dim , its=300))\n",
    "\n",
    "# plot the convergence over time\n",
    "x, f = zip(*result_D50)\n",
    "plt.plot(f)\n",
    "\n",
    "#final Result\n",
    "ya= result_D50[-1]\n",
    "print(\"final result: \" + str(ya[1]))"
   ]
  },
  {
   "cell_type": "code",
   "execution_count": 8,
   "metadata": {},
   "outputs": [
    {
     "name": "stdout",
     "output_type": "stream",
     "text": [
      "final result: -119.88559395397833\n"
     ]
    },
    {
     "data": {
      "image/png": "[encoded data removed]",
      "text/plain": [
       "<Figure size 432x288 with 1 Axes>"
      ]
     },
     "metadata": {
      "needs_background": "light"
     },
     "output_type": "display_data"
    }
   ],
   "source": [
    "#Running the optmization for D=500\n",
    "Dim = 500\n",
    "result_D500 = list(de(Shifted_Ackley, bounds=[(-100, 100)] * Dim , its=300))\n",
    "\n",
    "# plot the convergence over time\n",
    "x, f = zip(*result_D500)\n",
    "plt.plot(f)\n",
    "\n",
    "#final Result\n",
    "ya= result_D500[-1]\n",
    "print(\"final result: \" + str(ya[1]))"
   ]
  }
 ],
 "metadata": {
  "kernelspec": {
   "display_name": "Python 3",
   "language": "python",
   "name": "python3"
  },
  "language_info": {
   "codemirror_mode": {
    "name": "ipython",
    "version": 3
   },
   "file_extension": ".py",
   "mimetype": "text/x-python",
   "name": "python",
   "nbconvert_exporter": "python",
   "pygments_lexer": "ipython3",
   "version": "3.7.6"
  }
 },
 "nbformat": 4,
 "nbformat_minor": 4
}
